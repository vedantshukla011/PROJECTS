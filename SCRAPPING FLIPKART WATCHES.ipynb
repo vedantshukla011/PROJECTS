{
 "cells": [
  {
   "cell_type": "code",
   "execution_count": 1,
   "id": "21a26a05",
   "metadata": {},
   "outputs": [],
   "source": [
    "from selenium import webdriver\n",
    "from selenium.webdriver.common.by import By"
   ]
  },
  {
   "cell_type": "code",
   "execution_count": 2,
   "id": "11140ac9",
   "metadata": {},
   "outputs": [
    {
     "name": "stderr",
     "output_type": "stream",
     "text": [
      "C:\\Users\\hp\\AppData\\Local\\Temp\\ipykernel_7192\\2590819555.py:1: DeprecationWarning: executable_path has been deprecated, please pass in a Service object\n",
      "  driver=webdriver.Edge(executable_path=\"C:\\\\Users\\\\hp\\\\Desktop\\\\msedgedriver\")\n"
     ]
    },
    {
     "data": {
      "text/plain": [
       "<selenium.webdriver.edge.webdriver.WebDriver (session=\"39abaad73908d323d26958699d31bb9a\")>"
      ]
     },
     "execution_count": 2,
     "metadata": {},
     "output_type": "execute_result"
    }
   ],
   "source": [
    "driver=webdriver.Edge(executable_path=\"C:\\\\Users\\\\hp\\\\Desktop\\\\msedgedriver\")\n",
    "driver"
   ]
  },
  {
   "cell_type": "code",
   "execution_count": 3,
   "id": "42f427b3",
   "metadata": {},
   "outputs": [],
   "source": [
    "driver.get(\"https://www.flipkart.com/?ef_id=e5df22af44161b146ab041ad3a6f72f5:G:s&s_kwcid=AL!739!10!76484920232329!76485137405439&semcmpid=sem_F1167BY7_Brand_adcenter\")"
   ]
  },
  {
   "cell_type": "code",
   "execution_count": 4,
   "id": "54eeeced",
   "metadata": {},
   "outputs": [],
   "source": [
    "c1=driver.find_element(By.CLASS_NAME,\"_3704LK\")\n",
    "c1.send_keys('watches')"
   ]
  },
  {
   "cell_type": "code",
   "execution_count": 5,
   "id": "3eb22fc1",
   "metadata": {},
   "outputs": [],
   "source": [
    "driver.find_element(By.CLASS_NAME,'L0Z3Pu').click()"
   ]
  },
  {
   "cell_type": "code",
   "execution_count": 6,
   "id": "9734c607",
   "metadata": {},
   "outputs": [
    {
     "data": {
      "text/plain": [
       "[]"
      ]
     },
     "execution_count": 6,
     "metadata": {},
     "output_type": "execute_result"
    }
   ],
   "source": [
    "NAME_COMPANY=[]\n",
    "name=driver.find_elements(By.CLASS_NAME,\"_2WkVRV\")\n",
    "for i in name:\n",
    "    NAME_COMPANY.append(i.text)\n",
    "NAME_COMPANY"
   ]
  },
  {
   "cell_type": "code",
   "execution_count": 7,
   "id": "bcd6bcc0",
   "metadata": {},
   "outputs": [],
   "source": [
    "Content=[]\n",
    "a1=driver.find_elements(By. CLASS_NAME,'IRpwTa')\n",
    "for i in a1:\n",
    "    Content.append(i.text)"
   ]
  },
  {
   "cell_type": "code",
   "execution_count": 8,
   "id": "3499c195",
   "metadata": {},
   "outputs": [
    {
     "data": {
      "text/plain": [
       "[]"
      ]
     },
     "execution_count": 8,
     "metadata": {},
     "output_type": "execute_result"
    }
   ],
   "source": [
    "Content"
   ]
  },
  {
   "cell_type": "code",
   "execution_count": 9,
   "id": "5589b071",
   "metadata": {},
   "outputs": [],
   "source": [
    "import pandas as pd"
   ]
  },
  {
   "cell_type": "code",
   "execution_count": 10,
   "id": "31a0718f",
   "metadata": {},
   "outputs": [],
   "source": [
    "data=pd.DataFrame(columns=[\"Name\",\"Content\",\"Price\"])"
   ]
  },
  {
   "cell_type": "code",
   "execution_count": 11,
   "id": "39af187b",
   "metadata": {},
   "outputs": [],
   "source": [
    "data[\"Name\"]=NAME_COMPANY\n",
    "data[\"Content\"]=Content\n"
   ]
  },
  {
   "cell_type": "code",
   "execution_count": 12,
   "id": "9577c338",
   "metadata": {},
   "outputs": [
    {
     "data": {
      "text/html": [
       "<div>\n",
       "<style scoped>\n",
       "    .dataframe tbody tr th:only-of-type {\n",
       "        vertical-align: middle;\n",
       "    }\n",
       "\n",
       "    .dataframe tbody tr th {\n",
       "        vertical-align: top;\n",
       "    }\n",
       "\n",
       "    .dataframe thead th {\n",
       "        text-align: right;\n",
       "    }\n",
       "</style>\n",
       "<table border=\"1\" class=\"dataframe\">\n",
       "  <thead>\n",
       "    <tr style=\"text-align: right;\">\n",
       "      <th></th>\n",
       "      <th>Name</th>\n",
       "      <th>Content</th>\n",
       "      <th>Price</th>\n",
       "    </tr>\n",
       "  </thead>\n",
       "  <tbody>\n",
       "  </tbody>\n",
       "</table>\n",
       "</div>"
      ],
      "text/plain": [
       "Empty DataFrame\n",
       "Columns: [Name, Content, Price]\n",
       "Index: []"
      ]
     },
     "execution_count": 12,
     "metadata": {},
     "output_type": "execute_result"
    }
   ],
   "source": [
    "data"
   ]
  },
  {
   "cell_type": "code",
   "execution_count": 13,
   "id": "e117c0ed",
   "metadata": {},
   "outputs": [],
   "source": [
    "Price=[]\n",
    "a2=driver.find_elements(By. CLASS_NAME,'_30jeq3')\n",
    "for i in a2:\n",
    "    Price.append(i.text)\n"
   ]
  },
  {
   "cell_type": "code",
   "execution_count": 14,
   "id": "f290ca03",
   "metadata": {
    "scrolled": true
   },
   "outputs": [
    {
     "name": "stdout",
     "output_type": "stream",
     "text": [
      "https://www.flipkart.com/search?q=watches&otracker=search&otracker1=search&marketplace=FLIPKART&as-show=off&as=off&page=1\n",
      "https://www.flipkart.com/search?q=watches&otracker=search&otracker1=search&marketplace=FLIPKART&as-show=off&as=off&page=2\n",
      "https://www.flipkart.com/search?q=watches&otracker=search&otracker1=search&marketplace=FLIPKART&as-show=off&as=off&page=3\n",
      "https://www.flipkart.com/search?q=watches&otracker=search&otracker1=search&marketplace=FLIPKART&as-show=off&as=off&page=4\n",
      "https://www.flipkart.com/search?q=watches&otracker=search&otracker1=search&marketplace=FLIPKART&as-show=off&as=off&page=5\n",
      "https://www.flipkart.com/search?q=watches&otracker=search&otracker1=search&marketplace=FLIPKART&as-show=off&as=off&page=6\n",
      "https://www.flipkart.com/search?q=watches&otracker=search&otracker1=search&marketplace=FLIPKART&as-show=off&as=off&page=7\n",
      "https://www.flipkart.com/search?q=watches&otracker=search&otracker1=search&marketplace=FLIPKART&as-show=off&as=off&page=8\n",
      "https://www.flipkart.com/search?q=watches&otracker=search&otracker1=search&marketplace=FLIPKART&as-show=off&as=off&page=9\n",
      "https://www.flipkart.com/search?q=watches&otracker=search&otracker1=search&marketplace=FLIPKART&as-show=off&as=off&page=10\n"
     ]
    }
   ],
   "source": [
    "l= driver.find_elements(By.CLASS_NAME,\"ge-49M\")\n",
    "for i in l:\n",
    "    print(i.get_attribute(\"href\"))\n",
    "    "
   ]
  },
  {
   "cell_type": "code",
   "execution_count": 28,
   "id": "c63aab25",
   "metadata": {},
   "outputs": [
    {
     "data": {
      "text/plain": [
       "['https://www.flipkart.com/search?q=watches&otracker=search&otracker1=search&marketplace=FLIPKART&as-show=on&as=off&page=1',\n",
       " 'https://www.flipkart.com/search?q=watches&otracker=search&otracker1=search&marketplace=FLIPKART&as-show=on&as=off&page=2',\n",
       " 'https://www.flipkart.com/search?q=watches&otracker=search&otracker1=search&marketplace=FLIPKART&as-show=on&as=off&page=3',\n",
       " 'https://www.flipkart.com/search?q=watches&otracker=search&otracker1=search&marketplace=FLIPKART&as-show=on&as=off&page=4',\n",
       " 'https://www.flipkart.com/search?q=watches&otracker=search&otracker1=search&marketplace=FLIPKART&as-show=on&as=off&page=5',\n",
       " 'https://www.flipkart.com/search?q=watches&otracker=search&otracker1=search&marketplace=FLIPKART&as-show=on&as=off&page=6',\n",
       " 'https://www.flipkart.com/search?q=watches&otracker=search&otracker1=search&marketplace=FLIPKART&as-show=on&as=off&page=7',\n",
       " 'https://www.flipkart.com/search?q=watches&otracker=search&otracker1=search&marketplace=FLIPKART&as-show=on&as=off&page=8',\n",
       " 'https://www.flipkart.com/search?q=watches&otracker=search&otracker1=search&marketplace=FLIPKART&as-show=on&as=off&page=9',\n",
       " 'https://www.flipkart.com/search?q=watches&otracker=search&otracker1=search&marketplace=FLIPKART&as-show=on&as=off&page=10',\n",
       " 'https://www.flipkart.com/search?q=watches&otracker=search&otracker1=search&marketplace=FLIPKART&as-show=on&as=off&page=11',\n",
       " 'https://www.flipkart.com/search?q=watches&otracker=search&otracker1=search&marketplace=FLIPKART&as-show=on&as=off&page=12',\n",
       " 'https://www.flipkart.com/search?q=watches&otracker=search&otracker1=search&marketplace=FLIPKART&as-show=on&as=off&page=13',\n",
       " 'https://www.flipkart.com/search?q=watches&otracker=search&otracker1=search&marketplace=FLIPKART&as-show=on&as=off&page=14',\n",
       " 'https://www.flipkart.com/search?q=watches&otracker=search&otracker1=search&marketplace=FLIPKART&as-show=on&as=off&page=15',\n",
       " 'https://www.flipkart.com/search?q=watches&otracker=search&otracker1=search&marketplace=FLIPKART&as-show=on&as=off&page=16',\n",
       " 'https://www.flipkart.com/search?q=watches&otracker=search&otracker1=search&marketplace=FLIPKART&as-show=on&as=off&page=17',\n",
       " 'https://www.flipkart.com/search?q=watches&otracker=search&otracker1=search&marketplace=FLIPKART&as-show=on&as=off&page=18',\n",
       " 'https://www.flipkart.com/search?q=watches&otracker=search&otracker1=search&marketplace=FLIPKART&as-show=on&as=off&page=19',\n",
       " 'https://www.flipkart.com/search?q=watches&otracker=search&otracker1=search&marketplace=FLIPKART&as-show=on&as=off&page=20',\n",
       " 'https://www.flipkart.com/search?q=watches&otracker=search&otracker1=search&marketplace=FLIPKART&as-show=on&as=off&page=21',\n",
       " 'https://www.flipkart.com/search?q=watches&otracker=search&otracker1=search&marketplace=FLIPKART&as-show=on&as=off&page=22',\n",
       " 'https://www.flipkart.com/search?q=watches&otracker=search&otracker1=search&marketplace=FLIPKART&as-show=on&as=off&page=23',\n",
       " 'https://www.flipkart.com/search?q=watches&otracker=search&otracker1=search&marketplace=FLIPKART&as-show=on&as=off&page=24',\n",
       " 'https://www.flipkart.com/search?q=watches&otracker=search&otracker1=search&marketplace=FLIPKART&as-show=on&as=off&page=25']"
      ]
     },
     "execution_count": 28,
     "metadata": {},
     "output_type": "execute_result"
    }
   ],
   "source": [
    "links=[]\n",
    "for i in range(1,26):\n",
    "    wp='https://www.flipkart.com/search?q=watches&otracker=search&otracker1=search&marketplace=FLIPKART&as-show=on&as=off&page='+ str(i)\n",
    "    links.append(wp)\n",
    "links"
   ]
  },
  {
   "cell_type": "code",
   "execution_count": 29,
   "id": "343e3749",
   "metadata": {
    "scrolled": true
   },
   "outputs": [],
   "source": [
    "NAM_COM=[]\n",
    "Con=[]\n",
    "Pri=[]\n",
    "for i in links:\n",
    "    driver.get(i)\n",
    "    name=driver.find_elements(By.CLASS_NAME,\"_2WkVRV\")\n",
    "    for j in name:\n",
    "        NAM_COM.append(j.text)\n",
    "    a1=driver.find_elements(By. CLASS_NAME,'IRpwTa')\n",
    "    for k in a1:\n",
    "        Con.append(k.text)\n",
    "    a2=driver.find_elements(By. CLASS_NAME,'_30jeq3')\n",
    "    for l in a2:\n",
    "        Pri.append(l.text)\n",
    "        \n",
    "\n",
    "\n",
    "    \n",
    "    \n",
    "    \n",
    "        "
   ]
  },
  {
   "cell_type": "code",
   "execution_count": 41,
   "id": "8eb56f87",
   "metadata": {},
   "outputs": [],
   "source": [
    "REQ_DATASET=pd.DataFrame(columns=[\"Name\",\"Content\",\"Price\"])\n",
    "REQ_DATASET['Name']=NAM_COM\n",
    "REQ_DATASET['Content']=Con\n",
    "REQ_DATASET['Price']=Pri\n",
    "REQ_DATASET.to_csv('WatchesDataFromFlipkartWebsite15092022.csv')\n",
    "\n"
   ]
  },
  {
   "cell_type": "code",
   "execution_count": null,
   "id": "09ab457f",
   "metadata": {},
   "outputs": [],
   "source": [
    "REQ_"
   ]
  },
  {
   "cell_type": "code",
   "execution_count": 38,
   "id": "243bee0f",
   "metadata": {},
   "outputs": [
    {
     "data": {
      "text/plain": [
       "1000"
      ]
     },
     "execution_count": 38,
     "metadata": {},
     "output_type": "execute_result"
    }
   ],
   "source": [
    "len(NAM_COM)"
   ]
  },
  {
   "cell_type": "code",
   "execution_count": 39,
   "id": "de3040f9",
   "metadata": {},
   "outputs": [
    {
     "data": {
      "text/plain": [
       "1000"
      ]
     },
     "execution_count": 39,
     "metadata": {},
     "output_type": "execute_result"
    }
   ],
   "source": [
    "len(Pri)"
   ]
  },
  {
   "cell_type": "code",
   "execution_count": 40,
   "id": "f0f8a716",
   "metadata": {},
   "outputs": [
    {
     "data": {
      "text/plain": [
       "1000"
      ]
     },
     "execution_count": 40,
     "metadata": {},
     "output_type": "execute_result"
    }
   ],
   "source": [
    "len(Con)"
   ]
  }
 ],
 "metadata": {
  "kernelspec": {
   "display_name": "Python 3 (ipykernel)",
   "language": "python",
   "name": "python3"
  },
  "language_info": {
   "codemirror_mode": {
    "name": "ipython",
    "version": 3
   },
   "file_extension": ".py",
   "mimetype": "text/x-python",
   "name": "python",
   "nbconvert_exporter": "python",
   "pygments_lexer": "ipython3",
   "version": "3.9.12"
  }
 },
 "nbformat": 4,
 "nbformat_minor": 5
}
